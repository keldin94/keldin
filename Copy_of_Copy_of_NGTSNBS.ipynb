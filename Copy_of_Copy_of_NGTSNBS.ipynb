{
  "nbformat": 4,
  "nbformat_minor": 0,
  "metadata": {
    "colab": {
      "name": "Copy of Copy of NGTSNBS.ipynb",
      "provenance": [],
      "collapsed_sections": []
    },
    "kernelspec": {
      "name": "python3",
      "display_name": "Python 3"
    }
  },
  "cells": [
    {
      "cell_type": "code",
      "metadata": {
        "id": "VaJWefj4uIA9",
        "colab_type": "code",
        "colab": {}
      },
      "source": [
        "#mountovanje google drajva#\n",
        "from google.colab import drive\n",
        "drive.mount('/content/drive')\n",
        "#autentikacija#"
      ],
      "execution_count": 0,
      "outputs": []
    },
    {
      "cell_type": "code",
      "metadata": {
        "id": "4Or-Djj2uLF1",
        "colab_type": "code",
        "colab": {}
      },
      "source": [
        "from google.colab import files\n",
        "uploaded = files.upload()"
      ],
      "execution_count": 0,
      "outputs": []
    },
    {
      "cell_type": "code",
      "metadata": {
        "id": "Qqao9Y_VuNpe",
        "colab_type": "code",
        "colab": {}
      },
      "source": [
        "!apt install python3-libtorrent"
      ],
      "execution_count": 0,
      "outputs": []
    },
    {
      "cell_type": "code",
      "metadata": {
        "id": "F4mvLUewuPGQ",
        "colab_type": "code",
        "colab": {}
      },
      "source": [
        "import libtorrent as lt\n",
        "import time\n",
        "import datetime\n",
        "\n",
        "ses = lt.session()\n",
        "ses.listen_on(6881, 6891)\n",
        "params = {\n",
        "    'save_path': '/content/drive/shared-with-me/NBSFilmovi/Putio/Novi_Metod/',\n",
        "    'storage_mode': lt.storage_mode_t(2),\n",
        "    'paused': False,\n",
        "    'auto_managed': True,\n",
        "    'duplicate_is_error': True}\n",
        "#primjer#\n",
        "#link = \"https://yts.lt/torrent/download/866BDCFA006930A718ADBC21D8CAE1F2C7F9D8B3\" #\n",
        "link = \"magnet:?xt=urn:btih:1C8A7E94B76C314FB702EA7A45D599AB0B8EAC24&dn=Behind.You.2020.720p.WEBRip.800MB.x264-GalaxyRG+%E2%AD%90&tr=udp%3A%2F%2Ftracker.coppersurfer.tk%3A6969%2Fannounce&tr=udp%3A%2F%2Ftracker.leechers-paradise.org%3A6969%2Fannounce&tr=udp%3A%2F%2Ftracker.cyberia.is%3A6969%2Fannounce&tr=udp%3A%2F%2Ftracker.iamhansen.xyz%3A2000%2Fannounce&tr=udp%3A%2F%2Fp4p.arenabg.com%3A1337%2Fannounce&tr=udp%3A%2F%2Fexplodie.org%3A6969%2Fannounce&tr=udp%3A%2F%2Ftracker.opentrackr.org%3A1337%2Fannounce&tr=udp%3A%2F%2Ftracker.tiny-vps.com%3A6969%2Fannounce&tr=udp%3A%2F%2Fexodus.desync.com%3A6969%2Fannounce&tr=udp%3A%2F%2Ftracker.torrent.eu.org%3A451%2Fannounce&tr=udp%3A%2F%2Ftracker.moeking.me%3A6969%2Fannounce&tr=udp%3A%2F%2Fipv4.tracker.harry.lu%3A80%2Fannounce&tr=udp%3A%2F%2Fopen.stealth.si%3A80%2Fannounce&tr=udp%3A%2F%2F9.rarbg.to%3A2710%2Fannounce&tr=udp%3A%2F%2Ftracker.zer0day.to%3A1337%2Fannounce&tr=udp%3A%2F%2Ftracker.leechers-paradise.org%3A6969%2Fannounce&tr=udp%3A%2F%2Fcoppersurfer.tk%3A6969%2Fannounce\"\n",
        "print(link)\n",
        "\n",
        "handle = lt.add_magnet_uri(ses, link, params)\n",
        "ses.start_dht()\n",
        "\n",
        "begin = time.time()\n",
        "print(datetime.datetime.now())\n",
        "\n",
        "print ('Preuzimanje metapodataka...')\n",
        "while (not handle.has_metadata()):\n",
        "    time.sleep(1)\n",
        "print ('Metapodatci su preuzeti, preuzimanja torrenta...')\n",
        "\n",
        "print(\"Zapocinje\", handle.name())\n",
        "\n",
        "while (handle.status().state != lt.torrent_status.seeding):\n",
        "    s = handle.status()\n",
        "    state_str = ['staviti u red', 'pruzeti dijelovi torenta su u konzistenciji!', 'preuzimanje metapodataka', \\\n",
        "            'preuzimanje', 'gotov', 'seeding', 'alociranje']\n",
        "    print ('%.2f%% preuzeto (ds: %.1f kb/s us: %.1f kB/s peers: %d) %s ' % \\\n",
        "            (s.progress * 100, s.download_rate / 1000, s.upload_rate / 1000, \\\n",
        "            s.num_peers, state_str[s.state]))\n",
        "    time.sleep(5)\n",
        "#ds = download stream#\n",
        "#us = upload stream#\n",
        "end = time.time()\n",
        "print(handle.name(), \"Zavrseno\")\n",
        "\n",
        "print(\"Torent preuzet za: \",int((end-begin)//60),\"min :\", int((end-begin)%60), \"sec\")\n",
        "\n",
        "print(datetime.datetime.now())"
      ],
      "execution_count": 0,
      "outputs": []
    }
  ]
}